{
 "cells": [
  {
   "cell_type": "code",
   "execution_count": 1,
   "id": "aa0703b6",
   "metadata": {},
   "outputs": [],
   "source": [
    "import pandas as pd\n",
    "import numpy as np\n",
    "import matplotlib.pyplot as plt\n",
    "import seaborn as sns\n",
    "from sklearn.preprocessing import StandardScaler\n",
    "from sklearn.metrics import confusion_matrix, classification_report\n",
    "from sklearn.inspection import permutation_importance\n",
    "import pickle"
   ]
  },
  {
   "cell_type": "code",
   "execution_count": 2,
   "id": "126fb63e",
   "metadata": {},
   "outputs": [
    {
     "name": "stdout",
     "output_type": "stream",
     "text": [
      "              precision    recall  f1-score   support\n",
      "\n",
      "           0     0.9853    0.6695    0.7973   5705019\n",
      "           1     0.2826    0.9289    0.4334    799778\n",
      "\n",
      "    accuracy                         0.7014   6504797\n",
      "   macro avg     0.6340    0.7992    0.6153   6504797\n",
      "weighted avg     0.8989    0.7014    0.7525   6504797\n",
      "\n",
      "TP: 742887\n",
      "TN: 3819474\n",
      "FP: 1885545\n",
      "FN: 56891\n"
     ]
    }
   ],
   "source": [
    "data_test = pd.read_csv('test.csv')\n",
    "\n",
    "# Модель классификатора.\n",
    "model_filename = \"clf_model.pkl\"\n",
    "with open(model_filename, 'rb') as file:\n",
    "    clf_model_best = pickle.load(file)\n",
    "\n",
    "# Модель нормализатора.\n",
    "model_filename = \"sc_model.pkl\"\n",
    "with open(model_filename, 'rb') as file:\n",
    "    SC_model = pickle.load(file)  \n",
    "\n",
    "columns_to_remove = ['id', 'Region_Code', 'Policy_Sales_Channel', 'Driving_License', 'Annual_Premium', 'Vintage']\n",
    "\n",
    "# Признак 'Vehicle_Age' (nominal) заменяем на числовой (continous):\n",
    "# 0 - '< 1 Year'\n",
    "# 1 - '1-2 Year'\n",
    "# 2 - '> 2 Years'\n",
    "Vehicle_Age_category = ['< 1 Year', '1-2 Year', '> 2 Years']\n",
    "Vehicle_Age_number = list(range(len(Vehicle_Age_category)))\n",
    "for idx, column_name in enumerate(Vehicle_Age_category):\n",
    "    data_test['Vehicle_Age'] = data_test['Vehicle_Age'].apply(lambda x: Vehicle_Age_number[idx] if x == column_name else x)\n",
    "\n",
    "# Признак 'Gender' (nominal) заменяем на 'Is_Male' (dichotomous): 1 - Male, 0 - Female.\n",
    "data_test['Gender'] = data_test['Gender'].apply(lambda x: 1 if x == 'Male' else 0)\n",
    "data_test.rename(columns={'Gender': 'Is_Male'}, inplace=True)\n",
    "\n",
    "# Признак 'Vehicle_Damage' (nominal) заменяем на (dichotomous): 1 - Yes, 0 - No.\n",
    "data_test['Vehicle_Damage'] = data_test['Vehicle_Damage'].apply(lambda x: 1 if x == 'Yes' else 0)\n",
    "\n",
    "# Удаляем бесполезные признаки.\n",
    "data_test = data_test.drop(columns=columns_to_remove)\n",
    "\n",
    "\n",
    "tmp_X_test = data_test.drop(columns=['Response'])\n",
    "X_test = pd.DataFrame(SC_model.transform(tmp_X_test.values), columns=tmp_X_test.columns)\n",
    "y_test = data_test['Response']\n",
    "\n",
    "y_pred = pd.DataFrame(clf_model_best.predict(X_test.values), columns=['Response'])\n",
    "print(classification_report(y_test, y_pred, digits=4))\n",
    "tn, fp, fn, tp = confusion_matrix(y_test, y_pred).ravel()\n",
    "print('TP: {}\\nTN: {}\\nFP: {}\\nFN: {}'.format(tp, tn, fp, fn))"
   ]
  }
 ],
 "metadata": {
  "kernelspec": {
   "display_name": ".venv",
   "language": "python",
   "name": "python3"
  },
  "language_info": {
   "codemirror_mode": {
    "name": "ipython",
    "version": 3
   },
   "file_extension": ".py",
   "mimetype": "text/x-python",
   "name": "python",
   "nbconvert_exporter": "python",
   "pygments_lexer": "ipython3",
   "version": "3.11.0"
  }
 },
 "nbformat": 4,
 "nbformat_minor": 5
}
